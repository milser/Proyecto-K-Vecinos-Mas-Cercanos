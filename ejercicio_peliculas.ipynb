{
 "cells": [
  {
   "cell_type": "markdown",
   "metadata": {},
   "source": [
    "Your friend suspects that movies are getting shorter and they've found some initial evidence of this. Having peaked your interest, you will perform exploratory data analysis on the netflix_data.csv data to understand what may be contributing to movies getting shorter over time. Your analysis will follow these steps:\n",
    "\n",
    "1. Load the CSV file and store as netflix_df.\n",
    "\n",
    "2. Filter the data into TV Shows and store it as netflix_tv and created another dataframe for Movies and store as netflix_subset. \n",
    "\n",
    "3. Calculate the Various Statistical Characteristics of the Duration of Movies and the for TV Shows. Write your observations.\n",
    "\n",
    "4. Investigate and subset the Netflix movie data, keeping only the columns \"title\", \"country\", \"genre\", \"release_year\", \"duration\", and saving this into a new DataFrame called netflix_movies.\n",
    "\n",
    "5. Filter netflix_movies to find the movies that are strictly shorter than 60 minutes, saving the resulting DataFrame as short_movies; inspect the result to find possible contributing factors.\n",
    "\n",
    "6. Using a for loop and if/elif statements, iterate through the rows of netflix_movies and assign colors of your choice to four genre groups (\"Children\", \"Documentaries\", \"Stand-Up\", and \"Other\" for everything else). Save the results in a colors list. Initialize a matplotlib figure object called fig and create a scatter plot for movie duration by release year using the colors list to color the points and using the labels \"Release year\" for the x-axis, \"Duration (min)\" for the y-axis, and the title \"Movie Duration by Year of Release\".\n",
    "\n",
    "7. After inspecting the plot, answer the question \"Are we certain that movies are getting shorter?\" by assigning either \"yes\" or \"no\" to the variable answer."
   ]
  },
  {
   "cell_type": "code",
   "execution_count": 71,
   "metadata": {},
   "outputs": [
    {
     "data": {
      "text/html": [
       "<div>\n",
       "<style scoped>\n",
       "    .dataframe tbody tr th:only-of-type {\n",
       "        vertical-align: middle;\n",
       "    }\n",
       "\n",
       "    .dataframe tbody tr th {\n",
       "        vertical-align: top;\n",
       "    }\n",
       "\n",
       "    .dataframe thead th {\n",
       "        text-align: right;\n",
       "    }\n",
       "</style>\n",
       "<table border=\"1\" class=\"dataframe\">\n",
       "  <thead>\n",
       "    <tr style=\"text-align: right;\">\n",
       "      <th></th>\n",
       "      <th>show_id</th>\n",
       "      <th>type</th>\n",
       "      <th>title</th>\n",
       "      <th>director</th>\n",
       "      <th>cast</th>\n",
       "      <th>country</th>\n",
       "      <th>date_added</th>\n",
       "      <th>release_year</th>\n",
       "      <th>duration</th>\n",
       "      <th>description</th>\n",
       "      <th>genre</th>\n",
       "    </tr>\n",
       "  </thead>\n",
       "  <tbody>\n",
       "    <tr>\n",
       "      <th>0</th>\n",
       "      <td>s1</td>\n",
       "      <td>TV Show</td>\n",
       "      <td>3%</td>\n",
       "      <td>NaN</td>\n",
       "      <td>João Miguel, Bianca Comparato, Michel Gomes, R...</td>\n",
       "      <td>Brazil</td>\n",
       "      <td>August 14, 2020</td>\n",
       "      <td>2020</td>\n",
       "      <td>4</td>\n",
       "      <td>In a future where the elite inhabit an island ...</td>\n",
       "      <td>International TV</td>\n",
       "    </tr>\n",
       "    <tr>\n",
       "      <th>1</th>\n",
       "      <td>s2</td>\n",
       "      <td>Movie</td>\n",
       "      <td>7:19</td>\n",
       "      <td>Jorge Michel Grau</td>\n",
       "      <td>Demián Bichir, Héctor Bonilla, Oscar Serrano, ...</td>\n",
       "      <td>Mexico</td>\n",
       "      <td>December 23, 2016</td>\n",
       "      <td>2016</td>\n",
       "      <td>93</td>\n",
       "      <td>After a devastating earthquake hits Mexico Cit...</td>\n",
       "      <td>Dramas</td>\n",
       "    </tr>\n",
       "  </tbody>\n",
       "</table>\n",
       "</div>"
      ],
      "text/plain": [
       "  show_id     type title           director  \\\n",
       "0      s1  TV Show    3%                NaN   \n",
       "1      s2    Movie  7:19  Jorge Michel Grau   \n",
       "\n",
       "                                                cast country  \\\n",
       "0  João Miguel, Bianca Comparato, Michel Gomes, R...  Brazil   \n",
       "1  Demián Bichir, Héctor Bonilla, Oscar Serrano, ...  Mexico   \n",
       "\n",
       "          date_added  release_year  duration  \\\n",
       "0    August 14, 2020          2020         4   \n",
       "1  December 23, 2016          2016        93   \n",
       "\n",
       "                                         description             genre  \n",
       "0  In a future where the elite inhabit an island ...  International TV  \n",
       "1  After a devastating earthquake hits Mexico Cit...            Dramas  "
      ]
     },
     "execution_count": 71,
     "metadata": {},
     "output_type": "execute_result"
    }
   ],
   "source": [
    "#1\n",
    "import pandas as pd\n",
    "df = pd.read_csv('Netflix movies data.csv')\n",
    "df.head(2)\n",
    "\n",
    "\n",
    "\n"
   ]
  },
  {
   "cell_type": "code",
   "execution_count": 72,
   "metadata": {},
   "outputs": [],
   "source": [
    "#2 Filter the data into TV Shows and store it as netflix_tv and created \n",
    "# another dataframe for Movies and store as netflix_subset. \n",
    "\n",
    "#netflix_col = pd.DataFrame(df,columns=['show_id','type'])\n",
    "#netflix_col.head()\n",
    "\n",
    "netflix_tv     = df[df['type']=='TV Show']\n",
    "netflix_subset = df[df['type']=='Movie'  ]"
   ]
  },
  {
   "cell_type": "code",
   "execution_count": 73,
   "metadata": {},
   "outputs": [
    {
     "name": "stdout",
     "output_type": "stream",
     "text": [
      "std:  1.5960277648893695\n",
      "mean:  1.7759336099585061\n",
      "min:  1\n",
      "max:  16\n",
      "Range:  15\n",
      "Range:  15\n",
      "mode:  1\n",
      "________________________\n",
      "std:  28.52822761450318\n",
      "mean:  99.30797842663195\n",
      "min:  3\n",
      "max:  312\n",
      "Range:  309\n",
      "Range:  309\n",
      "mode:  90\n"
     ]
    }
   ],
   "source": [
    "#3. Calculate the Various Statistical Characteristics \n",
    "#of the Duration of Movies and the for TV Shows. \n",
    "#Write your observations.\n",
    "import numpy as np\n",
    "import statistics as stats\n",
    "\n",
    "duration_shows_30 = netflix_subset[netflix_subset['duration']>30]\n",
    "\n",
    "\n",
    "duration_shows = netflix_tv['duration']\n",
    "duration_movies = netflix_subset['duration']\n",
    "\n",
    "\n",
    "print('std: ',np.std(duration_shows))\n",
    "print('mean: ',stats.mean(duration_shows))\n",
    "print('min: ',np.min(duration_shows))\n",
    "print('max: ',np.max(duration_shows))\n",
    "print('Range: ',np.max(duration_shows)-np.min(duration_shows))\n",
    "print('Range: ',np.ptp(duration_shows))\n",
    "print('mode: ',stats.mode(duration_shows))\n",
    "\n",
    "\n",
    "\n",
    "print('________________________')\n",
    "\n",
    "print('std: ',np.std(duration_movies))\n",
    "print('mean: ',stats.mean(duration_movies))\n",
    "print('min: ',np.min(duration_movies))\n",
    "print('max: ',np.max(duration_movies))\n",
    "print('Range: ',np.max(duration_movies)-np.min(duration_movies))\n",
    "print('Range: ',np.ptp(duration_movies))\n",
    "print('mode: ',stats.mode(duration_movies))\n",
    "\n",
    "#print(np.mode(duration_shows))"
   ]
  },
  {
   "cell_type": "code",
   "execution_count": 76,
   "metadata": {},
   "outputs": [
    {
     "name": "stdout",
     "output_type": "stream",
     "text": [
      "   title        country          genre  release_year  duration\n",
      "1   7:19         Mexico         Dramas          2016        93\n",
      "2  23:59      Singapore  Horror Movies          2011        78\n",
      "3      9  United States         Action          2009        80\n",
      "4     21  United States         Dramas          2008       123\n",
      "6    122          Egypt  Horror Movies          2019        95\n"
     ]
    }
   ],
   "source": [
    "#4. Investigate and subset the Netflix movie data, \n",
    "# keeping only the columns \"title\", \"country\", \"genre\", \"release_year\", \"duration\",\n",
    "# and saving this into a new DataFrame called netflix_movies.\n",
    "\n",
    "#netflix_movies = pd.DataFrame(netflix_subset,columns=[\"title\", \"country\", \"genre\", \"release_year\", \"duration\"])\n",
    "netflix_movies = netflix_subset[[\"title\", \"country\", \"genre\", \"release_year\", \"duration\"]]\n",
    "\n",
    "print(netflix_movies.head())\n",
    "\n",
    "\n"
   ]
  }
 ],
 "metadata": {
  "kernelspec": {
   "display_name": "Python 3",
   "language": "python",
   "name": "python3"
  },
  "language_info": {
   "codemirror_mode": {
    "name": "ipython",
    "version": 3
   },
   "file_extension": ".py",
   "mimetype": "text/x-python",
   "name": "python",
   "nbconvert_exporter": "python",
   "pygments_lexer": "ipython3",
   "version": "3.10.12"
  }
 },
 "nbformat": 4,
 "nbformat_minor": 2
}
