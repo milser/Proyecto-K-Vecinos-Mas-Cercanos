{
    "cells": [
        {
            "cell_type": "markdown",
            "metadata": {},
            "source": [
                "# EDA bank-marketing-campaign-data"
            ]
        },
        {
            "cell_type": "markdown",
            "metadata": {},
            "source": [
                "## Set up"
            ]
        },
        {
            "cell_type": "code",
            "execution_count": 471,
            "metadata": {},
            "outputs": [
                {
                    "name": "stdout",
                    "output_type": "stream",
                    "text": [
                        "Defaulting to user installation because normal site-packages is not writeable\n",
                        "Requirement already satisfied: edastatmil_milser in c:\\users\\milser\\appdata\\roaming\\python\\python312\\site-packages (1.0.0)\n"
                    ]
                }
            ],
            "source": [
                "#!pip install edastatmil_milser\n",
                "!pip install --upgrade edastatmil_milser\n",
                "color = \"#254025\"\n",
                "import warnings\n",
                "warnings.filterwarnings('ignore') "
            ]
        },
        {
            "cell_type": "code",
            "execution_count": 472,
            "metadata": {},
            "outputs": [],
            "source": [
                "from edastatmil_milser import edas_tatmil as EDA\n",
                "\n",
                "total_data_raw1 = EDA.pd.read_csv('../data/raw/tmdb_5000_credits.csv', delimiter=',')\n",
                "total_data_raw2 = EDA.pd.read_csv('../data/raw/tmdb_5000_movies.csv', delimiter=',')\n"
            ]
        },
        {
            "cell_type": "code",
            "execution_count": 473,
            "metadata": {},
            "outputs": [],
            "source": [
                "total_data_raw_merged = EDA.pd.merge(total_data_raw1, total_data_raw2, on='title')\n",
                "total_data_raw = total_data_raw_merged[['movie_id', 'title', 'overview', 'genres', 'keywords', 'cast', 'crew']]\n",
                "\n",
                "total_data_raw.to_csv(f\"../data/raw/total_data_raw.csv\")"
            ]
        },
        {
            "cell_type": "code",
            "execution_count": 474,
            "metadata": {},
            "outputs": [
                {
                    "name": "stdout",
                    "output_type": "stream",
                    "text": [
                        "Rows: 4809\n",
                        "Columns: 7\n",
                        "+----------+----------------+------------+-----------+---------------+\n",
                        "|          | Non-Null Count | Null Count | Data Type | Data Category |\n",
                        "+----------+----------------+------------+-----------+---------------+\n",
                        "| movie_id |      4809      |     0      |   int64   |   Numerical   |\n",
                        "|  title   |      4809      |     0      |  object   |  Categorical  |\n",
                        "| overview |      4806      |     3      |  object   |  Categorical  |\n",
                        "|  genres  |      4809      |     0      |  object   |  Categorical  |\n",
                        "| keywords |      4809      |     0      |  object   |  Categorical  |\n",
                        "|   cast   |      4809      |     0      |  object   |  Categorical  |\n",
                        "|   crew   |      4809      |     0      |  object   |  Categorical  |\n",
                        "+----------+----------------+------------+-----------+---------------+\n"
                    ]
                },
                {
                    "data": {
                        "text/plain": [
                            "(['title', 'overview', 'genres', 'keywords', 'cast', 'crew'], ['movie_id'])"
                        ]
                    },
                    "execution_count": 474,
                    "metadata": {},
                    "output_type": "execute_result"
                }
            ],
            "source": [
                "total_data_clean = total_data_raw.copy()\n",
                "EDA.explore(total_data_clean)\n",
                "\n"
            ]
        },
        {
            "cell_type": "markdown",
            "metadata": {},
            "source": [
                "El dataset tiene 4809 instanias con 7 variables\n"
            ]
        },
        {
            "cell_type": "code",
            "execution_count": 475,
            "metadata": {},
            "outputs": [
                {
                    "name": "stdout",
                    "output_type": "stream",
                    "text": [
                        "Rows: 4806\n",
                        "Columns: 7\n",
                        "+----------+----------------+------------+-----------+---------------+\n",
                        "|          | Non-Null Count | Null Count | Data Type | Data Category |\n",
                        "+----------+----------------+------------+-----------+---------------+\n",
                        "| movie_id |      4806      |     0      |   int64   |   Numerical   |\n",
                        "|  title   |      4806      |     0      |  object   |  Categorical  |\n",
                        "| overview |      4806      |     0      |  object   |  Categorical  |\n",
                        "|  genres  |      4806      |     0      |  object   |  Categorical  |\n",
                        "| keywords |      4806      |     0      |  object   |  Categorical  |\n",
                        "|   cast   |      4806      |     0      |  object   |  Categorical  |\n",
                        "|   crew   |      4806      |     0      |  object   |  Categorical  |\n",
                        "+----------+----------------+------------+-----------+---------------+\n"
                    ]
                },
                {
                    "data": {
                        "text/plain": [
                            "(['title', 'overview', 'genres', 'keywords', 'cast', 'crew'], ['movie_id'])"
                        ]
                    },
                    "execution_count": 475,
                    "metadata": {},
                    "output_type": "execute_result"
                }
            ],
            "source": [
                "total_data_clean = total_data_clean.dropna()\n",
                "EDA.explore(total_data_clean)"
            ]
        },
        {
            "cell_type": "code",
            "execution_count": 476,
            "metadata": {},
            "outputs": [
                {
                    "name": "stdout",
                    "output_type": "stream",
                    "text": [
                        "[{\"cast_id\": 242, \"character\": \"Jake Sully\", \"credit_id\": \"5602a8a7c3a3685532001c9a\", \"gender\": 2, \"id\": 65731, \"name\": \"Sam Worthington\", \"order\": 0}, {\"cast_id\": 3, \"character\": \"Neytiri\", \"credit_id\": \"52fe48009251416c750ac9cb\", \"gender\": 1, \"id\": 8691, \"name\": \"Zoe Saldana\", \"order\": 1}, {\"cast_id\": 25, \"character\": \"Dr. Grace Augustine\", \"credit_id\": \"52fe48009251416c750aca39\", \"gender\": 1, \"id\": 10205, \"name\": \"Sigourney Weaver\", \"order\": 2}, {\"cast_id\": 4, \"character\": \"Col. Quaritch\", \"credit_id\": \"52fe48009251416c750ac9cf\", \"gender\": 2, \"id\": 32747, \"name\": \"Stephen Lang\", \"order\": 3}, {\"cast_id\": 5, \"character\": \"Trudy Chacon\", \"credit_id\": \"52fe48009251416c750ac9d3\", \"gender\": 1, \"id\": 17647, \"name\": \"Michelle Rodriguez\", \"order\": 4}, {\"cast_id\": 8, \"character\": \"Selfridge\", \"credit_id\": \"52fe48009251416c750ac9e1\", \"gender\": 2, \"id\": 1771, \"name\": \"Giovanni Ribisi\", \"order\": 5}, {\"cast_id\": 7, \"character\": \"Norm Spellman\", \"credit_id\": \"52fe48009251416c750ac9dd\", \"gender\": 2, \"id\": 59231, \"name\": \"Joel David Moore\", \"order\": 6}, {\"cast_id\": 9, \"character\": \"Moat\", \"credit_id\": \"52fe48009251416c750ac9e5\", \"gender\": 1, \"id\": 30485, \"name\": \"CCH Pounder\", \"order\": 7}, {\"cast_id\": 11, \"character\": \"Eytukan\", \"credit_id\": \"52fe48009251416c750ac9ed\", \"gender\": 2, \"id\": 15853, \"name\": \"Wes Studi\", \"order\": 8}, {\"cast_id\": 10, \"character\": \"Tsu'Tey\", \"credit_id\": \"52fe48009251416c750ac9e9\", \"gender\": 2, \"id\": 10964, \"name\": \"Laz Alonso\", \"order\": 9}, {\"cast_id\": 12, \"character\": \"Dr. Max Patel\", \"credit_id\": \"52fe48009251416c750ac9f1\", \"gender\": 2, \"id\": 95697, \"name\": \"Dileep Rao\", \"order\": 10}, {\"cast_id\": 13, \"character\": \"Lyle Wainfleet\", \"credit_id\": \"52fe48009251416c750ac9f5\", \"gender\": 2, \"id\": 98215, \"name\": \"Matt Gerald\", \"order\": 11}, {\"cast_id\": 32, \"character\": \"Private Fike\", \"credit_id\": \"52fe48009251416c750aca5b\", \"gender\": 2, \"id\": 154153, \"name\": \"Sean Anthony Moran\", \"order\": 12}, {\"cast_id\": 33, \"character\": \"Cryo Vault Med Tech\", \"credit_id\": \"52fe48009251416c750aca5f\", \"gender\": 2, \"id\": 397312, \"name\": \"Jason Whyte\", \"order\": 13}, {\"cast_id\": 34, \"character\": \"Venture Star Crew Chief\", \"credit_id\": \"52fe48009251416c750aca63\", \"gender\": 2, \"id\": 42317, \"name\": \"Scott Lawrence\", \"order\": 14}, {\"cast_id\": 35, \"character\": \"Lock Up Trooper\", \"credit_id\": \"52fe48009251416c750aca67\", \"gender\": 2, \"id\": 986734, \"name\": \"Kelly Kilgour\", \"order\": 15}, {\"cast_id\": 36, \"character\": \"Shuttle Pilot\", \"credit_id\": \"52fe48009251416c750aca6b\", \"gender\": 0, \"id\": 1207227, \"name\": \"James Patrick Pitt\", \"order\": 16}, {\"cast_id\": 37, \"character\": \"Shuttle Co-Pilot\", \"credit_id\": \"52fe48009251416c750aca6f\", \"gender\": 0, \"id\": 1180936, \"name\": \"Sean Patrick Murphy\", \"order\": 17}, {\"cast_id\": 38, \"character\": \"Shuttle Crew Chief\", \"credit_id\": \"52fe48009251416c750aca73\", \"gender\": 2, \"id\": 1019578, \"name\": \"Peter Dillon\", \"order\": 18}, {\"cast_id\": 39, \"character\": \"Tractor Operator / Troupe\", \"credit_id\": \"52fe48009251416c750aca77\", \"gender\": 0, \"id\": 91443, \"name\": \"Kevin Dorman\", \"order\": 19}, {\"cast_id\": 40, \"character\": \"Dragon Gunship Pilot\", \"credit_id\": \"52fe48009251416c750aca7b\", \"gender\": 2, \"id\": 173391, \"name\": \"Kelson Henderson\", \"order\": 20}, {\"cast_id\": 41, \"character\": \"Dragon Gunship Gunner\", \"credit_id\": \"52fe48009251416c750aca7f\", \"gender\": 0, \"id\": 1207236, \"name\": \"David Van Horn\", \"order\": 21}, {\"cast_id\": 42, \"character\": \"Dragon Gunship Navigator\", \"credit_id\": \"52fe48009251416c750aca83\", \"gender\": 0, \"id\": 215913, \"name\": \"Jacob Tomuri\", \"order\": 22}, {\"cast_id\": 43, \"character\": \"Suit #1\", \"credit_id\": \"52fe48009251416c750aca87\", \"gender\": 0, \"id\": 143206, \"name\": \"Michael Blain-Rozgay\", \"order\": 23}, {\"cast_id\": 44, \"character\": \"Suit #2\", \"credit_id\": \"52fe48009251416c750aca8b\", \"gender\": 2, \"id\": 169676, \"name\": \"Jon Curry\", \"order\": 24}, {\"cast_id\": 46, \"character\": \"Ambient Room Tech\", \"credit_id\": \"52fe48009251416c750aca8f\", \"gender\": 0, \"id\": 1048610, \"name\": \"Luke Hawker\", \"order\": 25}, {\"cast_id\": 47, \"character\": \"Ambient Room Tech / Troupe\", \"credit_id\": \"52fe48009251416c750aca93\", \"gender\": 0, \"id\": 42288, \"name\": \"Woody Schultz\", \"order\": 26}, {\"cast_id\": 48, \"character\": \"Horse Clan Leader\", \"credit_id\": \"52fe48009251416c750aca97\", \"gender\": 2, \"id\": 68278, \"name\": \"Peter Mensah\", \"order\": 27}, {\"cast_id\": 49, \"character\": \"Link Room Tech\", \"credit_id\": \"52fe48009251416c750aca9b\", \"gender\": 0, \"id\": 1207247, \"name\": \"Sonia Yee\", \"order\": 28}, {\"cast_id\": 50, \"character\": \"Basketball Avatar / Troupe\", \"credit_id\": \"52fe48009251416c750aca9f\", \"gender\": 1, \"id\": 1207248, \"name\": \"Jahnel Curfman\", \"order\": 29}, {\"cast_id\": 51, \"character\": \"Basketball Avatar\", \"credit_id\": \"52fe48009251416c750acaa3\", \"gender\": 0, \"id\": 89714, \"name\": \"Ilram Choi\", \"order\": 30}, {\"cast_id\": 52, \"character\": \"Na'vi Child\", \"credit_id\": \"52fe48009251416c750acaa7\", \"gender\": 0, \"id\": 1207249, \"name\": \"Kyla Warren\", \"order\": 31}, {\"cast_id\": 53, \"character\": \"Troupe\", \"credit_id\": \"52fe48009251416c750acaab\", \"gender\": 0, \"id\": 1207250, \"name\": \"Lisa Roumain\", \"order\": 32}, {\"cast_id\": 54, \"character\": \"Troupe\", \"credit_id\": \"52fe48009251416c750acaaf\", \"gender\": 1, \"id\": 83105, \"name\": \"Debra Wilson\", \"order\": 33}, {\"cast_id\": 57, \"character\": \"Troupe\", \"credit_id\": \"52fe48009251416c750acabb\", \"gender\": 0, \"id\": 1207253, \"name\": \"Chris Mala\", \"order\": 34}, {\"cast_id\": 55, \"character\": \"Troupe\", \"credit_id\": \"52fe48009251416c750acab3\", \"gender\": 0, \"id\": 1207251, \"name\": \"Taylor Kibby\", \"order\": 35}, {\"cast_id\": 56, \"character\": \"Troupe\", \"credit_id\": \"52fe48009251416c750acab7\", \"gender\": 0, \"id\": 1207252, \"name\": \"Jodie Landau\", \"order\": 36}, {\"cast_id\": 58, \"character\": \"Troupe\", \"credit_id\": \"52fe48009251416c750acabf\", \"gender\": 0, \"id\": 1207254, \"name\": \"Julie Lamm\", \"order\": 37}, {\"cast_id\": 59, \"character\": \"Troupe\", \"credit_id\": \"52fe48009251416c750acac3\", \"gender\": 0, \"id\": 1207257, \"name\": \"Cullen B. Madden\", \"order\": 38}, {\"cast_id\": 60, \"character\": \"Troupe\", \"credit_id\": \"52fe48009251416c750acac7\", \"gender\": 0, \"id\": 1207259, \"name\": \"Joseph Brady Madden\", \"order\": 39}, {\"cast_id\": 61, \"character\": \"Troupe\", \"credit_id\": \"52fe48009251416c750acacb\", \"gender\": 0, \"id\": 1207262, \"name\": \"Frankie Torres\", \"order\": 40}, {\"cast_id\": 62, \"character\": \"Troupe\", \"credit_id\": \"52fe48009251416c750acacf\", \"gender\": 1, \"id\": 1158600, \"name\": \"Austin Wilson\", \"order\": 41}, {\"cast_id\": 63, \"character\": \"Troupe\", \"credit_id\": \"52fe48019251416c750acad3\", \"gender\": 1, \"id\": 983705, \"name\": \"Sara Wilson\", \"order\": 42}, {\"cast_id\": 64, \"character\": \"Troupe\", \"credit_id\": \"52fe48019251416c750acad7\", \"gender\": 0, \"id\": 1207263, \"name\": \"Tamica Washington-Miller\", \"order\": 43}, {\"cast_id\": 65, \"character\": \"Op Center Staff\", \"credit_id\": \"52fe48019251416c750acadb\", \"gender\": 1, \"id\": 1145098, \"name\": \"Lucy Briant\", \"order\": 44}, {\"cast_id\": 66, \"character\": \"Op Center Staff\", \"credit_id\": \"52fe48019251416c750acadf\", \"gender\": 2, \"id\": 33305, \"name\": \"Nathan Meister\", \"order\": 45}, {\"cast_id\": 67, \"character\": \"Op Center Staff\", \"credit_id\": \"52fe48019251416c750acae3\", \"gender\": 0, \"id\": 1207264, \"name\": \"Gerry Blair\", \"order\": 46}, {\"cast_id\": 68, \"character\": \"Op Center Staff\", \"credit_id\": \"52fe48019251416c750acae7\", \"gender\": 2, \"id\": 33311, \"name\": \"Matthew Chamberlain\", \"order\": 47}, {\"cast_id\": 69, \"character\": \"Op Center Staff\", \"credit_id\": \"52fe48019251416c750acaeb\", \"gender\": 0, \"id\": 1207265, \"name\": \"Paul Yates\", \"order\": 48}, {\"cast_id\": 70, \"character\": \"Op Center Duty Officer\", \"credit_id\": \"52fe48019251416c750acaef\", \"gender\": 0, \"id\": 1207266, \"name\": \"Wray Wilson\", \"order\": 49}, {\"cast_id\": 71, \"character\": \"Op Center Staff\", \"credit_id\": \"52fe48019251416c750acaf3\", \"gender\": 2, \"id\": 54492, \"name\": \"James Gaylyn\", \"order\": 50}, {\"cast_id\": 72, \"character\": \"Dancer\", \"credit_id\": \"52fe48019251416c750acaf7\", \"gender\": 0, \"id\": 1207267, \"name\": \"Melvin Leno Clark III\", \"order\": 51}, {\"cast_id\": 73, \"character\": \"Dancer\", \"credit_id\": \"52fe48019251416c750acafb\", \"gender\": 0, \"id\": 1207268, \"name\": \"Carvon Futrell\", \"order\": 52}, {\"cast_id\": 74, \"character\": \"Dancer\", \"credit_id\": \"52fe48019251416c750acaff\", \"gender\": 0, \"id\": 1207269, \"name\": \"Brandon Jelkes\", \"order\": 53}, {\"cast_id\": 75, \"character\": \"Dancer\", \"credit_id\": \"52fe48019251416c750acb03\", \"gender\": 0, \"id\": 1207270, \"name\": \"Micah Moch\", \"order\": 54}, {\"cast_id\": 76, \"character\": \"Dancer\", \"credit_id\": \"52fe48019251416c750acb07\", \"gender\": 0, \"id\": 1207271, \"name\": \"Hanniyah Muhammad\", \"order\": 55}, {\"cast_id\": 77, \"character\": \"Dancer\", \"credit_id\": \"52fe48019251416c750acb0b\", \"gender\": 0, \"id\": 1207272, \"name\": \"Christopher Nolen\", \"order\": 56}, {\"cast_id\": 78, \"character\": \"Dancer\", \"credit_id\": \"52fe48019251416c750acb0f\", \"gender\": 0, \"id\": 1207273, \"name\": \"Christa Oliver\", \"order\": 57}, {\"cast_id\": 79, \"character\": \"Dancer\", \"credit_id\": \"52fe48019251416c750acb13\", \"gender\": 0, \"id\": 1207274, \"name\": \"April Marie Thomas\", \"order\": 58}, {\"cast_id\": 80, \"character\": \"Dancer\", \"credit_id\": \"52fe48019251416c750acb17\", \"gender\": 0, \"id\": 1207275, \"name\": \"Bravita A. Threatt\", \"order\": 59}, {\"cast_id\": 81, \"character\": \"Mining Chief (uncredited)\", \"credit_id\": \"52fe48019251416c750acb1b\", \"gender\": 0, \"id\": 1207276, \"name\": \"Colin Bleasdale\", \"order\": 60}, {\"cast_id\": 82, \"character\": \"Veteran Miner (uncredited)\", \"credit_id\": \"52fe48019251416c750acb1f\", \"gender\": 0, \"id\": 107969, \"name\": \"Mike Bodnar\", \"order\": 61}, {\"cast_id\": 83, \"character\": \"Richard (uncredited)\", \"credit_id\": \"52fe48019251416c750acb23\", \"gender\": 0, \"id\": 1207278, \"name\": \"Matt Clayton\", \"order\": 62}, {\"cast_id\": 84, \"character\": \"Nav'i (uncredited)\", \"credit_id\": \"52fe48019251416c750acb27\", \"gender\": 1, \"id\": 147898, \"name\": \"Nicole Dionne\", \"order\": 63}, {\"cast_id\": 85, \"character\": \"Trooper (uncredited)\", \"credit_id\": \"52fe48019251416c750acb2b\", \"gender\": 0, \"id\": 1207280, \"name\": \"Jamie Harrison\", \"order\": 64}, {\"cast_id\": 86, \"character\": \"Trooper (uncredited)\", \"credit_id\": \"52fe48019251416c750acb2f\", \"gender\": 0, \"id\": 1207281, \"name\": \"Allan Henry\", \"order\": 65}, {\"cast_id\": 87, \"character\": \"Ground Technician (uncredited)\", \"credit_id\": \"52fe48019251416c750acb33\", \"gender\": 2, \"id\": 1207282, \"name\": \"Anthony Ingruber\", \"order\": 66}, {\"cast_id\": 88, \"character\": \"Flight Crew Mechanic (uncredited)\", \"credit_id\": \"52fe48019251416c750acb37\", \"gender\": 0, \"id\": 1207283, \"name\": \"Ashley Jeffery\", \"order\": 67}, {\"cast_id\": 14, \"character\": \"Samson Pilot\", \"credit_id\": \"52fe48009251416c750ac9f9\", \"gender\": 0, \"id\": 98216, \"name\": \"Dean Knowsley\", \"order\": 68}, {\"cast_id\": 89, \"character\": \"Trooper (uncredited)\", \"credit_id\": \"52fe48019251416c750acb3b\", \"gender\": 0, \"id\": 1201399, \"name\": \"Joseph Mika-Hunt\", \"order\": 69}, {\"cast_id\": 90, \"character\": \"Banshee (uncredited)\", \"credit_id\": \"52fe48019251416c750acb3f\", \"gender\": 0, \"id\": 236696, \"name\": \"Terry Notary\", \"order\": 70}, {\"cast_id\": 91, \"character\": \"Soldier (uncredited)\", \"credit_id\": \"52fe48019251416c750acb43\", \"gender\": 0, \"id\": 1207287, \"name\": \"Kai Pantano\", \"order\": 71}, {\"cast_id\": 92, \"character\": \"Blast Technician (uncredited)\", \"credit_id\": \"52fe48019251416c750acb47\", \"gender\": 0, \"id\": 1207288, \"name\": \"Logan Pithyou\", \"order\": 72}, {\"cast_id\": 93, \"character\": \"Vindum Raah (uncredited)\", \"credit_id\": \"52fe48019251416c750acb4b\", \"gender\": 0, \"id\": 1207289, \"name\": \"Stuart Pollock\", \"order\": 73}, {\"cast_id\": 94, \"character\": \"Hero (uncredited)\", \"credit_id\": \"52fe48019251416c750acb4f\", \"gender\": 0, \"id\": 584868, \"name\": \"Raja\", \"order\": 74}, {\"cast_id\": 95, \"character\": \"Ops Centreworker (uncredited)\", \"credit_id\": \"52fe48019251416c750acb53\", \"gender\": 0, \"id\": 1207290, \"name\": \"Gareth Ruck\", \"order\": 75}, {\"cast_id\": 96, \"character\": \"Engineer (uncredited)\", \"credit_id\": \"52fe48019251416c750acb57\", \"gender\": 0, \"id\": 1062463, \"name\": \"Rhian Sheehan\", \"order\": 76}, {\"cast_id\": 97, \"character\": \"Col. Quaritch's Mech Suit (uncredited)\", \"credit_id\": \"52fe48019251416c750acb5b\", \"gender\": 0, \"id\": 60656, \"name\": \"T. J. Storm\", \"order\": 77}, {\"cast_id\": 98, \"character\": \"Female Marine (uncredited)\", \"credit_id\": \"52fe48019251416c750acb5f\", \"gender\": 0, \"id\": 1207291, \"name\": \"Jodie Taylor\", \"order\": 78}, {\"cast_id\": 99, \"character\": \"Ikran Clan Leader (uncredited)\", \"credit_id\": \"52fe48019251416c750acb63\", \"gender\": 1, \"id\": 1186027, \"name\": \"Alicia Vela-Bailey\", \"order\": 79}, {\"cast_id\": 100, \"character\": \"Geologist (uncredited)\", \"credit_id\": \"52fe48019251416c750acb67\", \"gender\": 0, \"id\": 1207292, \"name\": \"Richard Whiteside\", \"order\": 80}, {\"cast_id\": 101, \"character\": \"Na'vi (uncredited)\", \"credit_id\": \"52fe48019251416c750acb6b\", \"gender\": 0, \"id\": 103259, \"name\": \"Nikie Zambo\", \"order\": 81}, {\"cast_id\": 102, \"character\": \"Ambient Room Tech / Troupe\", \"credit_id\": \"52fe48019251416c750acb6f\", \"gender\": 1, \"id\": 42286, \"name\": \"Julene Renee\", \"order\": 82}]\n"
                    ]
                }
            ],
            "source": [
                "print(total_data_raw['cast'].iloc[0])\n"
            ]
        },
        {
            "cell_type": "code",
            "execution_count": 477,
            "metadata": {},
            "outputs": [],
            "source": [
                "import json\n",
                "#warnings.filterwarnings('default') \n",
                "warnings.filterwarnings('ignore') \n",
                "\n",
                "total_data_clean['genres'] = total_data_raw['genres'].apply(json.loads)\n",
                "total_data_clean['genres'] = total_data_clean['genres'].apply(lambda x: [item['name'] for item in x])\n",
                "\n",
                "total_data_clean['keywords'] = total_data_raw['keywords'].apply(json.loads)\n",
                "total_data_clean['keywords'] = total_data_clean['keywords'].apply(lambda x: [item['name'] for item in x])\n",
                "\n",
                "total_data_clean['cast'] = total_data_raw['cast'].apply(json.loads)\n",
                "total_data_clean['cast'] = total_data_clean['cast'].apply(lambda x: [item['name'] for item in x[:3]])\n",
                "\n"
            ]
        },
        {
            "cell_type": "code",
            "execution_count": 478,
            "metadata": {},
            "outputs": [
                {
                    "name": "stdout",
                    "output_type": "stream",
                    "text": [
                        "<class 'list'>\n",
                        "<class 'list'>\n",
                        "<class 'str'>\n",
                        "<class 'list'>\n"
                    ]
                }
            ],
            "source": [
                "warnings.filterwarnings('ignore')\n",
                "\n",
                "\n",
                "#gracias internet\n",
                "total_data_clean['crew'] = total_data_raw['crew'].apply(json.loads)\n",
                "# Filter for rows where the job is 'Director'\n",
                "directors_df = total_data_clean[total_data_clean['crew'].apply(lambda x: any(entry['job'] == 'Director' for entry in x) if isinstance(x, list) else False)]\n",
                "\n",
                "# Replace NaN values with empty string in the 'directors_df' DataFrame\n",
                "directors_df['crew'] = directors_df['crew'].apply(lambda x: x if isinstance(x, list) else '')\n",
                "# Extract director names\n",
                "director_names = directors_df['crew'].apply(lambda x: [entry['name'] for entry in x if entry['job'] == 'Director'][0])\n",
                "####\n",
                "\n",
                "total_data_clean.loc[directors_df.index, 'crew'] = director_names\n",
                "print(type(total_data_clean['genres'][0]))\n",
                "print(type(total_data_clean['cast'][0]))\n",
                "print(type(total_data_clean['crew'][0]))\n",
                "print(type(total_data_clean['keywords'][0]))"
            ]
        },
        {
            "cell_type": "code",
            "execution_count": 479,
            "metadata": {},
            "outputs": [
                {
                    "name": "stdout",
                    "output_type": "stream",
                    "text": [
                        "<class 'list'>\n",
                        "<class 'list'>\n",
                        "<class 'list'>\n",
                        "<class 'str'>\n",
                        "<class 'list'>\n"
                    ]
                }
            ],
            "source": [
                "\n",
                "# Convertir la columna overview en una lista\n",
                "total_data_clean['overview'] = total_data_raw['overview'].apply(lambda x: [x])\n",
                "\n",
                "\n",
                "\n",
                "# Eliminar espacios entre palabras en ciertas columnas\n",
                "columns_to_strip = ['genres', 'cast', 'keywords']\n",
                "\n",
                "\n",
                "for col in columns_to_strip:\n",
                "    total_data_clean[col] = total_data_clean[col].apply(lambda x: [''.join(word.split()) if isinstance(word, str) and ' ' in word else word for word in x])\n",
                "    \n",
                "# Eliminar espacios alrededor del nombre y convertirlo en una sola cadena\n",
                "total_data_clean['crew'] = total_data_clean['crew'].apply(lambda x: x.replace(\" \", \"\") if isinstance(x, str) else x)\n",
                "\n",
                "\n",
                "print(type(total_data_clean['overview'][0]))\n",
                "print(type(total_data_clean['genres'][0]))\n",
                "print(type(total_data_clean['cast'][0]))\n",
                "print(type(total_data_clean['crew'][0]))\n",
                "print(type(total_data_clean['keywords'][0]))"
            ]
        },
        {
            "cell_type": "code",
            "execution_count": 480,
            "metadata": {},
            "outputs": [
                {
                    "name": "stdout",
                    "output_type": "stream",
                    "text": [
                        "['In the 22nd century, a paraplegic Marine is dispatched to the moon Pandora on a unique mission, but becomes torn between following orders and protecting an alien civilization.']\n",
                        "['Action', 'Adventure', 'Fantasy', 'ScienceFiction']\n",
                        "['SamWorthington', 'ZoeSaldana', 'SigourneyWeaver']\n",
                        "JamesCameron\n",
                        "['cultureclash', 'future', 'spacewar', 'spacecolony', 'society', 'spacetravel', 'futuristic', 'romance', 'space', 'alien', 'tribe', 'alienplanet', 'cgi', 'marine', 'soldier', 'battle', 'loveaffair', 'antiwar', 'powerrelations', 'mindandsoul', '3d']\n"
                    ]
                }
            ],
            "source": [
                "print((total_data_clean['overview'][0]))\n",
                "print((total_data_clean['genres'][0]))\n",
                "print((total_data_clean['cast'][0]))\n",
                "print((total_data_clean['crew'][0]))\n",
                "print((total_data_clean['keywords'][0]))"
            ]
        },
        {
            "cell_type": "code",
            "execution_count": 481,
            "metadata": {},
            "outputs": [
                {
                    "name": "stdout",
                    "output_type": "stream",
                    "text": [
                        "In the 22nd century, a paraplegic Marine is dispatched to the moon Pandora on a unique mission, but becomes torn between following orders and protecting an alien civilization. Action Adventure Fantasy ScienceFiction cultureclash future spacewar spacecolony society spacetravel futuristic romance space alien tribe alienplanet cgi marine soldier battle loveaffair antiwar powerrelations mindandsoul 3d SamWorthington ZoeSaldana SigourneyWeaver JamesCameron\n"
                    ]
                }
            ],
            "source": [
                "# Crear la columna 'tags'\n",
                "total_data_clean['tags'] = \"\"\n",
                "\n",
                "# Convertir los valores de las columnas a cadenas y unir las listas\n",
                "total_data_clean['overview'] = total_data_clean['overview'].apply(lambda x: ' '.join(x) if isinstance(x, list) else str(x) if not EDA.pd.isna(x) else '')\n",
                "total_data_clean['genres'] = total_data_clean['genres'].apply(lambda x: ' '.join(x))\n",
                "total_data_clean['cast'] = total_data_clean['cast'].apply(lambda x: ' '.join(x))\n",
                "total_data_clean['crew'] = total_data_clean['crew'].apply(lambda x: str(x))  # Convertir 'crew' a cadena\n",
                "total_data_clean['keywords'] = total_data_clean['keywords'].apply(lambda x: ' '.join(x))\n",
                "\n",
                "# Crear la columna 'tags' concatenando las columnas 'overview', 'genres', 'cast', 'crew' y 'keywords'\n",
                "total_data_clean['tags'] = total_data_clean['overview'] + ' ' + total_data_clean['genres'] + ' ' + total_data_clean['keywords'] + ' ' + total_data_clean['cast'] + ' ' + total_data_clean['crew'] \n",
                "\n",
                "# Mostrar el resultado\n",
                "print(total_data_clean['tags'][0])\n"
            ]
        },
        {
            "cell_type": "code",
            "execution_count": 482,
            "metadata": {},
            "outputs": [],
            "source": [
                "total_data_clean.to_csv('../data/processed/' + 'total_data_clean_procesed.csv', index=False)"
            ]
        },
        {
            "cell_type": "code",
            "execution_count": 485,
            "metadata": {},
            "outputs": [],
            "source": [
                "# KNN modeling\n",
                "from sklearn.feature_extraction.text import CountVectorizer\n",
                "from sklearn.neighbors import NearestNeighbors\n",
                "\n",
                "vectorizer = CountVectorizer()\n",
                "CV_matrix = vectorizer.fit_transform(total_data_clean[\"tags\"])"
            ]
        },
        {
            "cell_type": "code",
            "execution_count": 488,
            "metadata": {},
            "outputs": [],
            "source": [
                "from sklearn.metrics.pairwise import cosine_similarity\n",
                "\n",
                "similarity = cosine_similarity(CV_matrix)\n"
            ]
        },
        {
            "cell_type": "code",
            "execution_count": 498,
            "metadata": {},
            "outputs": [],
            "source": [
                "def recommend(movie):\n",
                "    try:    \n",
                "    \n",
                "        movie_index = total_data_clean[total_data_clean[\"title\"] == movie].index[0]\n",
                "        distances = similarity[movie_index]\n",
                "        movie_list = sorted(list(enumerate(distances)), reverse = True , key = lambda x: x[1])[1:6]\n",
                "    \n",
                "        for i in movie_list:\n",
                "            print(total_data_clean.iloc[i[0]].title)\n",
                "    except Exception as e:\n",
                "        print(\"Your movie is not in the List\")"
            ]
        },
        {
            "cell_type": "code",
            "execution_count": 499,
            "metadata": {},
            "outputs": [
                {
                    "name": "stdout",
                    "output_type": "stream",
                    "text": [
                        "Your movie is not in the List\n"
                    ]
                }
            ],
            "source": [
                "recommend(\"a\")"
            ]
        }
    ],
    "metadata": {
        "kernelspec": {
            "display_name": "Python 3.8.13 64-bit ('3.8.13')",
            "language": "python",
            "name": "python3"
        },
        "language_info": {
            "codemirror_mode": {
                "name": "ipython",
                "version": 3
            },
            "file_extension": ".py",
            "mimetype": "text/x-python",
            "name": "python",
            "nbconvert_exporter": "python",
            "pygments_lexer": "ipython3",
            "version": "3.12.2"
        },
        "orig_nbformat": 4,
        "vscode": {
            "interpreter": {
                "hash": "110cc1dee26208153f2972f08a2ad52b6a56238dc66d48e87fb757ef2996db56"
            }
        }
    },
    "nbformat": 4,
    "nbformat_minor": 2
}
